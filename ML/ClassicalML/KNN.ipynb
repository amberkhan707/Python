{
 "cells": [
  {
   "cell_type": "code",
   "execution_count": 18,
   "id": "84a71667",
   "metadata": {},
   "outputs": [],
   "source": [
    "import pandas as pd\n",
    "import numpy as np \n",
    "import matplotlib.pyplot as plt\n",
    "import seaborn as sns"
   ]
  },
  {
   "cell_type": "markdown",
   "id": "5759c2a2",
   "metadata": {},
   "source": [
    "data = np.load('Clean_Test_Train.npz')\n",
    "X_train = data['X_train']\n",
    "y_train = data['y_train']\n",
    "X_test = data['X_test']\n",
    "y_test = data['y_test']"
   ]
  },
  {
   "cell_type": "code",
   "execution_count": 19,
   "id": "23f0df55",
   "metadata": {},
   "outputs": [],
   "source": [
    "data = np.load('Clean_Test_Train.npz')\n",
    "\n",
    "# Ab arrays ko unke sahi naam se access karein\n",
    "X_train = data['X_train']\n",
    "X_test = data['X_test']\n",
    "y_train = data['y_train']\n",
    "y_test = data['y_test']"
   ]
  },
  {
   "cell_type": "code",
   "execution_count": 20,
   "id": "3356c477",
   "metadata": {},
   "outputs": [],
   "source": [
    "def euclidean_distance(x1, x2):\n",
    "    return np.sqrt(np.sum((x1 - x2) ** 2))\n"
   ]
  },
  {
   "cell_type": "code",
   "execution_count": null,
   "id": "c20fdc8c",
   "metadata": {},
   "outputs": [],
   "source": [
    "class KNN:\n",
    "    def __init__(self, k=3):\n",
    "        self.k = k\n",
    "\n",
    "    def fit(self, X, y):\n",
    "        self.X_train = X\n",
    "        self.y_train = y\n",
    "\n",
    "    def predict(self, X):\n",
    "        predictions = [self._predict_one(x) for x in X]\n",
    "        return np.array(predictions)\n",
    "\n",
    "    def _predict_one(self, x):\n",
    "        distances = [euclidean_distance(x, x_train) for x_train in self.X_train]\n",
    "      \n",
    "        k_idx = np.argsort(distances)[:self.k]\n",
    "        k_neighbor_labels = self.y_train[k_idx]\n",
    "       \n",
    "        labels, counts = np.unique(k_neighbor_labels, return_counts=True)\n",
    "        majority_label = labels[np.argmax(counts)]\n",
    "        return majority_label\n"
   ]
  },
  {
   "cell_type": "code",
   "execution_count": 22,
   "id": "907aa509",
   "metadata": {},
   "outputs": [],
   "source": [
    "knn = KNN(k=5)\n",
    "knn.fit(X_train, y_train)\n",
    "predictions = knn.predict(X_test)\n"
   ]
  },
  {
   "cell_type": "code",
   "execution_count": 23,
   "id": "eed41320",
   "metadata": {},
   "outputs": [
    {
     "name": "stdout",
     "output_type": "stream",
     "text": [
      "KNN Accuracy: 0.782\n"
     ]
    }
   ],
   "source": [
    "def accuracy(y_true, y_pred):\n",
    "    return np.sum(y_true == y_pred) / len(y_true)\n",
    "\n",
    "acc = accuracy(y_test, predictions)\n",
    "print(\"KNN Accuracy:\", round(acc, 3))\n"
   ]
  }
 ],
 "metadata": {
  "kernelspec": {
   "display_name": "ClassicalML",
   "language": "python",
   "name": "python3"
  },
  "language_info": {
   "codemirror_mode": {
    "name": "ipython",
    "version": 3
   },
   "file_extension": ".py",
   "mimetype": "text/x-python",
   "name": "python",
   "nbconvert_exporter": "python",
   "pygments_lexer": "ipython3",
   "version": "3.13.0"
  }
 },
 "nbformat": 4,
 "nbformat_minor": 5
}
