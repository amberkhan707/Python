{
 "cells": [
  {
   "cell_type": "code",
   "execution_count": 2,
   "id": "84a71667",
   "metadata": {},
   "outputs": [],
   "source": [
    "import pandas as pd\n",
    "import numpy as np \n",
    "import matplotlib.pyplot as plt\n",
    "import seaborn as sns"
   ]
  },
  {
   "cell_type": "markdown",
   "id": "5759c2a2",
   "metadata": {},
   "source": [
    "data = np.load('Clean_Test_Train.npz')\n",
    "X_train = data['X_train']\n",
    "y_train = data['y_train']\n",
    "X_test = data['X_test']\n",
    "y_test = data['y_test']"
   ]
  },
  {
   "cell_type": "code",
   "execution_count": 4,
   "id": "23f0df55",
   "metadata": {},
   "outputs": [],
   "source": [
    "data = np.load('Clean_Test_Train.npz')\n",
    "\n",
    "# Ab arrays ko unke sahi naam se access karein\n",
    "X_train = data['X_train']\n",
    "X_test = data['X_test']\n",
    "y_train = data['y_train']\n",
    "y_test = data['y_test']"
   ]
  },
  {
   "cell_type": "code",
   "execution_count": null,
   "id": "3356c477",
   "metadata": {},
   "outputs": [],
   "source": [
    "def knn_predict(X_train, y_train, X_test, k=5, weighted=False):\n",
    "    m = X_test.shape[0]\n",
    "    y_pred = np.zeros(m)\n",
    "    for i, x in enumerate(X_test):\n",
    "        dists = np.sqrt(np.sum((X_train - x) ** 2, axis=1))\n",
    "        nn_idx = np.argsort(dists)[:k]\n",
    "        nn_labels = y_train[nn_idx]\n",
    "        if weighted:\n",
    "            weights = 1.0 / (dists[nn_idx] + 1e-8)\n",
    "            uniq, inv = np.unique(nn_labels, return_inverse=True)\n",
    "            weight_sums = np.zeros(uniq.shape[0])\n",
    "            for j, idx in enumerate(inv):\n",
    "                weight_sums[idx] += weights[j]\n",
    "            y_pred[i] = uniq[np.argmax(weight_sums)]\n",
    "        else:\n",
    "            counts = np.bincount(nn_labels.astype(int))\n",
    "            y_pred[i] = np.argmax(counts)\n",
    "    return y_pred"
   ]
  },
  {
   "cell_type": "code",
   "execution_count": 16,
   "id": "c20fdc8c",
   "metadata": {},
   "outputs": [
    {
     "name": "stdout",
     "output_type": "stream",
     "text": [
      "Number of test samples: 785\n",
      "Shape of y_pred: (785,)\n"
     ]
    }
   ],
   "source": [
    "y_pred = knn_predict(X_train, y_train, X_test, k=5, weighted=True)"
   ]
  },
  {
   "cell_type": "code",
   "execution_count": null,
   "id": "907aa509",
   "metadata": {},
   "outputs": [],
   "source": []
  }
 ],
 "metadata": {
  "kernelspec": {
   "display_name": "ClassicalML",
   "language": "python",
   "name": "python3"
  },
  "language_info": {
   "codemirror_mode": {
    "name": "ipython",
    "version": 3
   },
   "file_extension": ".py",
   "mimetype": "text/x-python",
   "name": "python",
   "nbconvert_exporter": "python",
   "pygments_lexer": "ipython3",
   "version": "3.13.0"
  }
 },
 "nbformat": 4,
 "nbformat_minor": 5
}
