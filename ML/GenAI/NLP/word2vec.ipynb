{
 "cells": [
  {
   "cell_type": "code",
   "execution_count": 2,
   "id": "0d0797b4",
   "metadata": {},
   "outputs": [],
   "source": [
    "import gensim.downloader as api"
   ]
  },
  {
   "cell_type": "code",
   "execution_count": 3,
   "id": "8ca1f86a",
   "metadata": {},
   "outputs": [],
   "source": [
    "w2v = api.load('word2vec-google-news-300')"
   ]
  },
  {
   "cell_type": "code",
   "execution_count": 4,
   "id": "bfb213e1",
   "metadata": {},
   "outputs": [],
   "source": [
    "w2v['king'];"
   ]
  },
  {
   "cell_type": "code",
   "execution_count": 20,
   "id": "81f8ad12",
   "metadata": {},
   "outputs": [],
   "source": [
    "x = w2v['king']\n",
    "y = w2v['man']\n",
    "z = w2v['women']\n",
    "a = x-y+z"
   ]
  },
  {
   "cell_type": "code",
   "execution_count": 22,
   "id": "d613c153",
   "metadata": {},
   "outputs": [],
   "source": [
    "w2v.most_similar(a,topn = 5);"
   ]
  },
  {
   "cell_type": "code",
   "execution_count": null,
   "id": "81def111",
   "metadata": {},
   "outputs": [],
   "source": []
  },
  {
   "cell_type": "code",
   "execution_count": null,
   "id": "91e59c1d",
   "metadata": {},
   "outputs": [],
   "source": []
  }
 ],
 "metadata": {
  "kernelspec": {
   "display_name": "myenv",
   "language": "python",
   "name": "python3"
  },
  "language_info": {
   "codemirror_mode": {
    "name": "ipython",
    "version": 3
   },
   "file_extension": ".py",
   "mimetype": "text/x-python",
   "name": "python",
   "nbconvert_exporter": "python",
   "pygments_lexer": "ipython3",
   "version": "3.13.0"
  }
 },
 "nbformat": 4,
 "nbformat_minor": 5
}
