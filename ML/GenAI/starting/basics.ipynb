{
 "cells": [
  {
   "cell_type": "code",
   "execution_count": 4,
   "id": "975b26ed",
   "metadata": {},
   "outputs": [
    {
     "name": "stdout",
     "output_type": "stream",
     "text": [
      "(1, 2, 3, 4, 5)\n",
      "3\n",
      "[1, 27, 125, 343, 729, 1331, 2197, 3375, 4913, 6859, 9261, 12167, 15625, 19683, 24389, 29791, 35937, 42875, 50653, 59319, 68921, 79507, 91125, 103823, 117649, 132651, 148877, 166375, 185193, 205379, 226981, 250047, 274625, 300763, 328509, 357911, 389017, 421875, 456533, 493039, 531441, 571787, 614125, 658503, 704969, 753571, 804357, 857375, 912673, 970299]\n",
      "[0.0, 1.0, 2.0, 3.0, 4.0]\n"
     ]
    }
   ],
   "source": [
    "#basics \n",
    "\n",
    "t = (1, 2, 3, 4, 5)\n",
    "print(t)\n",
    "print(t[2])\n",
    "# tuple[3] = 1 -> this wont work because it is immutable \n",
    "\n",
    "a = [x**3 for x in range(1,100,2)]\n",
    "print(a)\n",
    "\n",
    "b = [x/2 for x in range(10) if x%2==0]\n",
    "print(b)\n",
    "\n"
   ]
  },
  {
   "cell_type": "code",
   "execution_count": 5,
   "id": "80e19aa4",
   "metadata": {},
   "outputs": [
    {
     "name": "stdout",
     "output_type": "stream",
     "text": [
      "2\n",
      "[2, 5, 17, 26]\n"
     ]
    }
   ],
   "source": [
    "#Lambda function \n",
    "x = lambda a : a**2+1\n",
    "print(x(1))\n",
    "\n",
    "\n",
    "#map function\n",
    "b = [1,2,4,5]\n",
    "print(list(map(x,b)))"
   ]
  },
  {
   "cell_type": "code",
   "execution_count": 6,
   "id": "b4e6116b",
   "metadata": {},
   "outputs": [
    {
     "data": {
      "text/plain": [
       "[5, 7, 9]"
      ]
     },
     "execution_count": 6,
     "metadata": {},
     "output_type": "execute_result"
    }
   ],
   "source": [
    "#multiple list map\n",
    "a1 = [1,2,3]\n",
    "a2 = [4,5,6]\n",
    "\n",
    "list(map(lambda x,y : x+y, a1,a2))"
   ]
  },
  {
   "cell_type": "code",
   "execution_count": 7,
   "id": "a0b4625e",
   "metadata": {},
   "outputs": [
    {
     "name": "stdout",
     "output_type": "stream",
     "text": [
      "<class 'str'>\n",
      "2\n",
      "<class 'int'>\n"
     ]
    }
   ],
   "source": [
    "#str to int\n",
    "str = \"122345353\"\n",
    "print(type(str))\n",
    "print(list(map(lambda x : int(x), str))[1])\n",
    "print(type(list(map(lambda x : int(x), str))[0]))"
   ]
  },
  {
   "cell_type": "code",
   "execution_count": null,
   "id": "226b9df5",
   "metadata": {},
   "outputs": [],
   "source": []
  },
  {
   "cell_type": "code",
   "execution_count": null,
   "id": "b4e15a6c",
   "metadata": {},
   "outputs": [],
   "source": []
  },
  {
   "cell_type": "code",
   "execution_count": null,
   "id": "32712dc6",
   "metadata": {},
   "outputs": [],
   "source": []
  }
 ],
 "metadata": {
  "kernelspec": {
   "display_name": "Python 3",
   "language": "python",
   "name": "python3"
  },
  "language_info": {
   "codemirror_mode": {
    "name": "ipython",
    "version": 3
   },
   "file_extension": ".py",
   "mimetype": "text/x-python",
   "name": "python",
   "nbconvert_exporter": "python",
   "pygments_lexer": "ipython3",
   "version": "3.13.0"
  }
 },
 "nbformat": 4,
 "nbformat_minor": 5
}
