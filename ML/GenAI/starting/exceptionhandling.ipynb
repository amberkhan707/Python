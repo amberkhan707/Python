{
 "cells": [
  {
   "cell_type": "markdown",
   "id": "bac6b946",
   "metadata": {},
   "source": [
    "## Exception Handling "
   ]
  },
  {
   "cell_type": "code",
   "execution_count": 2,
   "id": "521fb57f",
   "metadata": {},
   "outputs": [
    {
     "ename": "NameError",
     "evalue": "name 'b' is not defined",
     "output_type": "error",
     "traceback": [
      "\u001b[31m---------------------------------------------------------------------------\u001b[39m",
      "\u001b[31mNameError\u001b[39m                                 Traceback (most recent call last)",
      "\u001b[36mCell\u001b[39m\u001b[36m \u001b[39m\u001b[32mIn[2]\u001b[39m\u001b[32m, line 2\u001b[39m\n\u001b[32m      1\u001b[39m \u001b[38;5;66;03m# yha pe error ayega \u001b[39;00m\n\u001b[32m----> \u001b[39m\u001b[32m2\u001b[39m a = \u001b[43mb\u001b[49m\n",
      "\u001b[31mNameError\u001b[39m: name 'b' is not defined"
     ]
    }
   ],
   "source": [
    "# yha pe error ayega \n",
    "a = b"
   ]
  },
  {
   "cell_type": "code",
   "execution_count": 10,
   "id": "a7919338",
   "metadata": {},
   "outputs": [
    {
     "name": "stdout",
     "output_type": "stream",
     "text": [
      "name 'b' is not defined\n"
     ]
    }
   ],
   "source": [
    "# upar aaye hue error ko kaise handle krna h \n",
    "try:\n",
    "    a = b\n",
    "except NameError as e:\n",
    "    print(e)\n",
    "except SyntaxError as e1:\n",
    "    print(e1)\n",
    "except Exception as ex:\n",
    "    print(ex)"
   ]
  },
  {
   "cell_type": "code",
   "execution_count": 12,
   "id": "71ec9695",
   "metadata": {},
   "outputs": [
    {
     "name": "stdout",
     "output_type": "stream",
     "text": [
      "Do not divide by zero give number greater than zero\n"
     ]
    }
   ],
   "source": [
    "try :\n",
    "    result = 10/0\n",
    "except:\n",
    "    print(\"Do not divide by zero give number greater than zero\")"
   ]
  },
  {
   "cell_type": "code",
   "execution_count": 24,
   "id": "8bafdb21",
   "metadata": {},
   "outputs": [
    {
     "name": "stdout",
     "output_type": "stream",
     "text": [
      "This file name is not available in this folder\n",
      "'bool' object is not callable\n"
     ]
    }
   ],
   "source": [
    "# Practical Example \n",
    "try:\n",
    "    file = open('deo.txt','r')\n",
    "    content = file.read()\n",
    "except FileNotFoundError as e:\n",
    "    print(\"This file name is not available in this folder\")\n",
    "except Exception as e1:\n",
    "    print(e1)\n",
    "else:\n",
    "    print(content)\n",
    "finally:\n",
    "    try: \n",
    "        if file in locals() or not file.closed():\n",
    "            file.closed()\n",
    "            print(\"file closed succesfully\")\n",
    "    except Exception as e:\n",
    "        print(e)"
   ]
  },
  {
   "cell_type": "code",
   "execution_count": null,
   "id": "f67fc9ca",
   "metadata": {},
   "outputs": [],
   "source": []
  },
  {
   "cell_type": "code",
   "execution_count": null,
   "id": "e2bd6cf9",
   "metadata": {},
   "outputs": [],
   "source": []
  }
 ],
 "metadata": {
  "kernelspec": {
   "display_name": "Python 3",
   "language": "python",
   "name": "python3"
  },
  "language_info": {
   "codemirror_mode": {
    "name": "ipython",
    "version": 3
   },
   "file_extension": ".py",
   "mimetype": "text/x-python",
   "name": "python",
   "nbconvert_exporter": "python",
   "pygments_lexer": "ipython3",
   "version": "3.13.0"
  }
 },
 "nbformat": 4,
 "nbformat_minor": 5
}
