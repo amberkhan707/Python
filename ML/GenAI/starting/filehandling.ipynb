{
 "cells": [
  {
   "cell_type": "markdown",
   "id": "8f09f338",
   "metadata": {},
   "source": [
    "## File handling \n",
    "Read and write files"
   ]
  },
  {
   "cell_type": "code",
   "execution_count": 17,
   "id": "70a54f0f",
   "metadata": {},
   "outputs": [
    {
     "name": "stdout",
     "output_type": "stream",
     "text": [
      "My name is amber khan\n",
      "i am 23 year old\n",
      "My name is amber khan \n",
      "i am 23 year old \n",
      "\n",
      "same file overwritten by new content = \n",
      "hey boy what's app \n",
      "I dont know y this code is not running\n",
      "hey boy what's app \n",
      "I dont know y this code is not running\n",
      "new append line in this text file \n",
      "to check the aviability\n",
      "amber kahn is my name\n",
      "what is your name\n",
      "amber kahn is my name\n",
      "what is your name\n",
      "amber kahn is my name\n",
      "what is your name\n",
      "amber kahn is my name\n",
      "what is your nameamber kahn is my name\n",
      "what is your name\n",
      "3\n",
      "amber kahn is my name\n",
      "what is your name\n",
      "9\n"
     ]
    }
   ],
   "source": [
    "#Create and write a file\n",
    "with open('demo.txt',mode='w') as file:\n",
    "    file.write(\"My name is amber khan \\n\")\n",
    "    file.write('i am 23 year old \\n')\n",
    "#Read a file \n",
    "with open('demo.txt', mode = 'r') as file:\n",
    "    for line in file:\n",
    "        print(line.strip())\n",
    "\n",
    "#Another way to Read the file \n",
    "with open('demo.txt', mode = 'r') as file:\n",
    "    x = file.read()\n",
    "    print(x)\n",
    "#overwriting \n",
    "with open('demo.txt', mode = 'w') as file:\n",
    "    file.write(\"hey boy what's app \\n\")\n",
    "    file.write(\"I dont know y this code is not running\")\n",
    "\n",
    "with open('demo.txt', mode = 'r') as file:\n",
    "    content = file.read()\n",
    "    print(f\"same file overwritten by new content = \\n{content}\")\n",
    "#Avoid this overwriting we will use append instead of writing \n",
    "with open('demo.txt', mode = 'a') as file :\n",
    "    file.write('\\nnew append line in this text file \\n')\n",
    "    file.write('to check the aviability')\n",
    "\n",
    "with open('demo.txt', mode = 'r') as file:\n",
    "    new_content = file.read()\n",
    "\n",
    "print(new_content)\n",
    "# Write and read both \n",
    "with open('demo.txt', mode = 'w+') as file:\n",
    "    file.write('amber kahn is my name\\n')\n",
    "    file.write('what is your name')\n",
    "    file.seek(0)\n",
    "    cursor = file.read()\n",
    "    print(cursor)\n",
    "\n",
    "#copy file from one and paste in other \n",
    "with open('demo.txt', mode ='r') as file:\n",
    "    c = file.read()\n",
    "print(c)\n",
    "with open('destination.txt', mode ='w+') as file:\n",
    "    file.write(c)\n",
    "    file.seek(0)\n",
    "    con = file.read()\n",
    "print(con)\n",
    "\n",
    "with open('destination.txt', mode ='a') as file:\n",
    "    file.write(c)\n",
    "with open('destination.txt', mode ='r') as file:\n",
    "    cont = file.read()\n",
    "print(cont)\n",
    "#count of the line in this file\n",
    "i=0\n",
    "with open('destination.txt',mode = 'r') as file:\n",
    "    for lines in file:\n",
    "        i+=1\n",
    "print(i)\n",
    "#count of the words in this file\n",
    "i=0\n",
    "with open('demo.txt', mode = 'r') as file:\n",
    "    for line in file:\n",
    "        print(line.strip())\n",
    "        x = line.split()\n",
    "        i += len(x)\n",
    "print(i) "
   ]
  },
  {
   "cell_type": "code",
   "execution_count": 15,
   "id": "8cc8f11f",
   "metadata": {},
   "outputs": [
    {
     "name": "stdout",
     "output_type": "stream",
     "text": [
      "False\n",
      "c:\\Git Repository\\Python\\ML\\GenAI\\starting\\amber.txt\n",
      "True\n",
      "True\n"
     ]
    }
   ],
   "source": [
    "#searching paths \n",
    "import os \n",
    "print(os.path.exists('demo.txt'))\n",
    "print(os.path.join(os.getcwd(),'amber.txt'))\n",
    "print(os.path.isfile('csvlibrary.csv'))\n",
    "print(os.path.isdir('packages'))"
   ]
  },
  {
   "cell_type": "code",
   "execution_count": null,
   "id": "0947945d",
   "metadata": {},
   "outputs": [],
   "source": []
  }
 ],
 "metadata": {
  "kernelspec": {
   "display_name": "Python 3",
   "language": "python",
   "name": "python3"
  },
  "language_info": {
   "codemirror_mode": {
    "name": "ipython",
    "version": 3
   },
   "file_extension": ".py",
   "mimetype": "text/x-python",
   "name": "python",
   "nbconvert_exporter": "python",
   "pygments_lexer": "ipython3",
   "version": "3.13.0"
  }
 },
 "nbformat": 4,
 "nbformat_minor": 5
}
