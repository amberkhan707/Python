{
 "cells": [
  {
   "cell_type": "code",
   "execution_count": 54,
   "id": "edc6d19a",
   "metadata": {},
   "outputs": [
    {
     "data": {
      "text/plain": [
       "1"
      ]
     },
     "execution_count": 54,
     "metadata": {},
     "output_type": "execute_result"
    }
   ],
   "source": [
    "from packages.math import addition,subtraction\n",
    "addition(3,6)\n",
    "subtraction(10,9)"
   ]
  },
  {
   "cell_type": "code",
   "execution_count": 55,
   "id": "b11b9842",
   "metadata": {},
   "outputs": [
    {
     "data": {
      "text/plain": [
       "30"
      ]
     },
     "execution_count": 55,
     "metadata": {},
     "output_type": "execute_result"
    }
   ],
   "source": [
    "from packages.subpackages.multiply import multi\n",
    "multi(10,3)"
   ]
  },
  {
   "cell_type": "code",
   "execution_count": 56,
   "id": "292ef041",
   "metadata": {},
   "outputs": [
    {
     "name": "stdout",
     "output_type": "stream",
     "text": [
      "41 amber\n"
     ]
    }
   ],
   "source": [
    "# For Random things \n",
    "import random\n",
    "random.seed(42)\n",
    "x = random.randint(1,56)\n",
    "y = random.choice(['amber','ambar', 'amver', 'anwar'])\n",
    "print(x,y)"
   ]
  },
  {
   "cell_type": "code",
   "execution_count": 57,
   "id": "7fc57b5c",
   "metadata": {},
   "outputs": [
    {
     "name": "stdout",
     "output_type": "stream",
     "text": [
      "c:\\Git Repository\\Python\\ML\\GenAI\\starting\n"
     ]
    }
   ],
   "source": [
    "# for file handling \n",
    "import os\n",
    "print(os.getcwd())\n",
    "# os.mkdir('amber.txt')"
   ]
  },
  {
   "cell_type": "code",
   "execution_count": 58,
   "id": "18b5e93a",
   "metadata": {},
   "outputs": [
    {
     "name": "stdout",
     "output_type": "stream",
     "text": [
      "{\"amber\": \"khan\", \"age\": 23, \"occupation\": \"R&D\"}\n",
      "<class 'str'>\n",
      "<class 'dict'>\n"
     ]
    }
   ],
   "source": [
    "# json ke saath cheed chaad \n",
    "import json\n",
    "dict = {\"amber\" : \"khan\", \"age\" : 23, \"occupation\" : \"R&D\"}\n",
    "\n",
    "json_str = json.dumps(dict)\n",
    "print(json_str)\n",
    "print(type(json_str))\n",
    "dict_json = json.loads(json_str)\n",
    "print(type(dict_json))"
   ]
  },
  {
   "cell_type": "code",
   "execution_count": 69,
   "id": "0625169e",
   "metadata": {},
   "outputs": [
    {
     "name": "stdout",
     "output_type": "stream",
     "text": [
      "['name', 'age', 'address']\n",
      "['amber', '23', 'bihar']\n"
     ]
    }
   ],
   "source": [
    "# csv ke saath cheed chaad \n",
    "import csv\n",
    "\n",
    "#sbse se phle csv create krte h usko open krte h write mode me aur usme kuch data daalte h \n",
    "with open('csvlibrary.csv', mode = 'w', newline='') as csv_file:\n",
    "    writer = csv.writer(csv_file)\n",
    "    writer.writerow(['name', 'age', 'address'])\n",
    "    writer.writerow(['amber', 23, 'bihar'])\n",
    "\n",
    "#jo maine csv bnaya h usko kya likha h sachme wo hua h ya ni hua h usko read krte h tabhi pta chlega\n",
    "with open('csvlibrary.csv', mode='r') as csv_file:\n",
    "    reader = csv.reader(csv_file)\n",
    "    for row in reader:\n",
    "        print(row)"
   ]
  },
  {
   "cell_type": "code",
   "execution_count": 60,
   "id": "0deecaaf",
   "metadata": {},
   "outputs": [
    {
     "name": "stdout",
     "output_type": "stream",
     "text": [
      "2025-10-17 23:15:30.146837\n",
      "2025-10-17 23:15:30.147685\n"
     ]
    },
    {
     "name": "stdout",
     "output_type": "stream",
     "text": [
      "2025-10-17 23:15:32.149042\n",
      "2025-10-17 23:15:32.149896\n",
      "2025-10-05 23:15:32.150362\n"
     ]
    }
   ],
   "source": [
    "# datetime ka usr krne keliye aur time ka use kya krte h \n",
    "from datetime import datetime, timedelta\n",
    "import time \n",
    "\n",
    "print(datetime.today())\n",
    "print(datetime.now())\n",
    "\n",
    "time.sleep(2)\n",
    "\n",
    "print(datetime.today())\n",
    "print(datetime.now())\n",
    "print(datetime.now()- timedelta(days=12))"
   ]
  },
  {
   "cell_type": "code",
   "execution_count": 66,
   "id": "5a1c3e4e",
   "metadata": {},
   "outputs": [
    {
     "data": {
      "text/plain": [
       "'2'"
      ]
     },
     "execution_count": 66,
     "metadata": {},
     "output_type": "execute_result"
    }
   ],
   "source": [
    "#Isme check krenge kisi text me wo data present h ya ni regex ka use krke\n",
    "import re\n",
    "text = \"Hey boy what's going on 2 days happend any news\"\n",
    "find = r'\\d+'\n",
    "match = re.search(find,text)\n",
    "match.group()\n"
   ]
  },
  {
   "cell_type": "code",
   "execution_count": null,
   "id": "28457257",
   "metadata": {},
   "outputs": [],
   "source": []
  },
  {
   "cell_type": "code",
   "execution_count": null,
   "id": "f016635b",
   "metadata": {},
   "outputs": [],
   "source": []
  }
 ],
 "metadata": {
  "kernelspec": {
   "display_name": "Python 3",
   "language": "python",
   "name": "python3"
  },
  "language_info": {
   "codemirror_mode": {
    "name": "ipython",
    "version": 3
   },
   "file_extension": ".py",
   "mimetype": "text/x-python",
   "name": "python",
   "nbconvert_exporter": "python",
   "pygments_lexer": "ipython3",
   "version": "3.13.0"
  }
 },
 "nbformat": 4,
 "nbformat_minor": 5
}
