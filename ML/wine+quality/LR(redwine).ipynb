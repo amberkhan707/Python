{
 "cells": [
  {
   "cell_type": "code",
   "execution_count": null,
   "id": "a0497cc3",
   "metadata": {},
   "outputs": [],
   "source": [
    "import pandas as pd\n",
    "import numpy as np \n",
    "import matplotlib.pyplot as plt\n",
    "import seaborn as sns\n",
    "from sklearn.preprocessing import StandardScaler"
   ]
  },
  {
   "cell_type": "code",
   "execution_count": 24,
   "id": "aa9b1511",
   "metadata": {},
   "outputs": [],
   "source": [
    "df_real = pd.read_csv(\"winequality-red.csv\")\n",
    "df = df_real\n",
    "df.head();"
   ]
  },
  {
   "cell_type": "code",
   "execution_count": 25,
   "id": "fa175efb",
   "metadata": {},
   "outputs": [],
   "source": [
    "df.isnull().sum();"
   ]
  },
  {
   "cell_type": "code",
   "execution_count": 26,
   "id": "be33daaf",
   "metadata": {},
   "outputs": [],
   "source": [
    "df.dtypes;"
   ]
  },
  {
   "cell_type": "code",
   "execution_count": 27,
   "id": "5f9f670d",
   "metadata": {},
   "outputs": [],
   "source": [
    "df = df.drop_duplicates()"
   ]
  },
  {
   "cell_type": "code",
   "execution_count": 28,
   "id": "7aff2159",
   "metadata": {},
   "outputs": [
    {
     "data": {
      "text/plain": [
       "\"\\ncorr = df.corr()\\nplt.figure(figsize=(12, 6))  \\nsns.heatmap(corr, annot=True, cmap='coolwarm')\\nplt.plot()\\n\""
      ]
     },
     "execution_count": 28,
     "metadata": {},
     "output_type": "execute_result"
    }
   ],
   "source": [
    "# Multicolinearity check krne keliye\n",
    "'''\n",
    "corr = df.corr()\n",
    "plt.figure(figsize=(12, 6))  \n",
    "sns.heatmap(corr, annot=True, cmap='coolwarm')\n",
    "plt.plot()\n",
    "'''"
   ]
  },
  {
   "cell_type": "markdown",
   "id": "8d6bfc4e",
   "metadata": {},
   "source": [
    "# Ye 5 cheezein dhyn rkhna h \n",
    "Linearity – X aur y ka relationship linear ho.\n",
    "\n",
    "Independence – errors independent ho.\n",
    "\n",
    "Homoscedasticity – errors ki spread constant ho.\n",
    "\n",
    "No multicollinearity – features ek dusre ke duplicate na ho.\n",
    "\n",
    "Normality of errors – errors bell-curve jaisa ho."
   ]
  },
  {
   "cell_type": "code",
   "execution_count": 29,
   "id": "63800e2b",
   "metadata": {},
   "outputs": [
    {
     "data": {
      "text/plain": [
       "'\\nplt.figure(figsize=(12,6))\\nsns.boxplot(data = df)\\n'"
      ]
     },
     "execution_count": 29,
     "metadata": {},
     "output_type": "execute_result"
    }
   ],
   "source": [
    "#outliners pta krne keliye\n",
    "'''\n",
    "plt.figure(figsize=(12,6))\n",
    "sns.boxplot(data = df)\n",
    "'''"
   ]
  },
  {
   "cell_type": "code",
   "execution_count": 30,
   "id": "5618c142",
   "metadata": {},
   "outputs": [],
   "source": [
    "# yha se kitna data h pta kiya\n",
    "df.describe();"
   ]
  },
  {
   "cell_type": "code",
   "execution_count": 31,
   "id": "7fd28c8e",
   "metadata": {},
   "outputs": [],
   "source": [
    "df.var();\n",
    "#density danger me h because variance bhot kam h data me"
   ]
  },
  {
   "cell_type": "code",
   "execution_count": 32,
   "id": "0a72800d",
   "metadata": {},
   "outputs": [
    {
     "data": {
      "text/plain": [
       "\"\\ntarget = 'quality'\\nfor col in df.columns:\\n    if col != target:\\n        sns.scatterplot(x=df[col], y=df[target])\\n        plt.show()\\n\""
      ]
     },
     "execution_count": 32,
     "metadata": {},
     "output_type": "execute_result"
    }
   ],
   "source": [
    "# to check linearity with each feature \n",
    "'''\n",
    "target = 'quality'\n",
    "for col in df.columns:\n",
    "    if col != target:\n",
    "        sns.scatterplot(x=df[col], y=df[target])\n",
    "        plt.show()\n",
    "'''"
   ]
  },
  {
   "cell_type": "code",
   "execution_count": 33,
   "id": "4d49ee57",
   "metadata": {},
   "outputs": [
    {
     "data": {
      "text/plain": [
       "(1005, 12)"
      ]
     },
     "execution_count": 33,
     "metadata": {},
     "output_type": "execute_result"
    }
   ],
   "source": [
    "df_clean = df.copy()\n",
    "Q1 = df_clean.quantile(0.25)\n",
    "Q3 = df_clean.quantile(0.75)\n",
    "IQR = Q3 - Q1\n",
    "\n",
    "# filter rows within [Q1 - 1.5*IQR, Q3 + 1.5*IQR] for all columns\n",
    "df_clean = df_clean[~((df_clean < (Q1 - 1.5 * IQR)) | (df_clean > (Q3 + 1.5 * IQR))).any(axis=1)]\n",
    "df = df_clean\n",
    "df.shape\n"
   ]
  },
  {
   "cell_type": "code",
   "execution_count": 34,
   "id": "607ce8fc",
   "metadata": {},
   "outputs": [],
   "source": [
    "df = df.reset_index(drop = True)\n",
    "df;"
   ]
  },
  {
   "cell_type": "code",
   "execution_count": 35,
   "id": "237239de",
   "metadata": {},
   "outputs": [],
   "source": [
    "m = len(df)\n",
    "label = df['quality']\n",
    "feature = df.drop(columns='quality')"
   ]
  },
  {
   "cell_type": "code",
   "execution_count": 36,
   "id": "6975a352",
   "metadata": {},
   "outputs": [],
   "source": [
    "#test aur train data split krke usko array me change kr diya \n",
    "train_feature = feature[ : int(0.8*m)].values \n",
    "train_label = label[ : int(0.8*m)].values\n",
    "test_feature = feature[int(0.8*m) : ].values\n",
    "test_label = label[int(0.8*m) : ].values"
   ]
  },
  {
   "cell_type": "code",
   "execution_count": 37,
   "id": "b7e088fb",
   "metadata": {},
   "outputs": [
    {
     "data": {
      "text/plain": [
       "(804, 11)"
      ]
     },
     "execution_count": 37,
     "metadata": {},
     "output_type": "execute_result"
    }
   ],
   "source": [
    "scaler = StandardScaler()\n",
    "train_feature = scaler.fit_transform(train_feature)\n",
    "test_feature = scaler.transform(test_feature)\n",
    "train_feature.shape"
   ]
  },
  {
   "cell_type": "code",
   "execution_count": 38,
   "id": "0ba07f10",
   "metadata": {},
   "outputs": [],
   "source": [
    "# weight aur bais initially assign kr diya h sab features keliye\n",
    "w= np.zeros(train_feature.shape[1])\n",
    "b = 0\n",
    "x = 0.005 # learning rate"
   ]
  },
  {
   "cell_type": "code",
   "execution_count": 39,
   "id": "35e2c864",
   "metadata": {},
   "outputs": [],
   "source": [
    "# yha pe each feature apne weight ke saath align honge aur bias add krke return dega  \n",
    "def prediction(train_feature,w,b):\n",
    "    return np.dot(train_feature,w) + b"
   ]
  },
  {
   "cell_type": "code",
   "execution_count": 40,
   "id": "ad4975db",
   "metadata": {},
   "outputs": [],
   "source": [
    "# cost function :: exactly error kya h predicted value aur current value ke beech wo btata h \n",
    "def cost_function(y_pre,train_label):\n",
    "    m = len(train_label)\n",
    "    return ((1 / (2 * m)) * np.sum((train_label - y_pre)**2))"
   ]
  },
  {
   "cell_type": "code",
   "execution_count": 41,
   "id": "44362698",
   "metadata": {},
   "outputs": [],
   "source": [
    "# cost me kitna contribute kr rha h hr ek value of each featur usko dekhna h uske according weight update krenge  \n",
    "def weight_contri(train_feature,train_label,w,x,b):\n",
    "    m = len(train_label)\n",
    "    y_pred = prediction(train_feature, w, b)\n",
    "    error = y_pred - train_label\n",
    "\n",
    "    dw = (1/m) * np.dot(train_feature.T, error)\n",
    "    db = (1/m) * np.sum(error)\n",
    "\n",
    "    w = w - x * dw\n",
    "    b = b - x * db\n",
    "    return w, b"
   ]
  },
  {
   "cell_type": "code",
   "execution_count": 42,
   "id": "08826685",
   "metadata": {},
   "outputs": [
    {
     "name": "stdout",
     "output_type": "stream",
     "text": [
      "final weight : [ 0.0389146  -0.13143774 -0.04336926 -0.00614159 -0.01417637  0.0278977\n",
      " -0.07970853 -0.05072279 -0.0435044   0.19904287  0.25432674]\n",
      "final bais : 5.630597014925282\n"
     ]
    }
   ],
   "source": [
    "epoch = 100000\n",
    "cost_history = []\n",
    "standard_error = 0.01\n",
    "\n",
    "for i in range(epoch):\n",
    "    y_pred = prediction(train_feature, w, b)\n",
    "    cost = cost_function(y_pred, train_label)\n",
    "    cost_history.append(cost)\n",
    "    w, b = weight_contri(train_feature, train_label, w, x, b)\n",
    "\n",
    "print(f\"final weight : {w}\")\n",
    "print(f\"final bais : {b}\")"
   ]
  },
  {
   "cell_type": "code",
   "execution_count": 43,
   "id": "dcdc60bd",
   "metadata": {},
   "outputs": [],
   "source": [
    "cost_history;"
   ]
  },
  {
   "cell_type": "code",
   "execution_count": 44,
   "id": "2af92a9f",
   "metadata": {},
   "outputs": [
    {
     "name": "stdout",
     "output_type": "stream",
     "text": [
      "\n",
      "Test MSE: 0.1754\n",
      "R² Score on Test Data: 0.2767\n"
     ]
    }
   ],
   "source": [
    "y_test_pred = prediction(test_feature, w, b)\n",
    "test_cost = cost_function(y_test_pred, test_label)\n",
    "print(f\"\\nTest MSE: {test_cost:.4f}\")\n",
    "\n",
    "# Optional: R² Score\n",
    "SS_res = np.sum((test_label - y_test_pred)**2)\n",
    "SS_tot = np.sum((test_label - np.mean(test_label))**2)\n",
    "r2_score = 1 - (SS_res / SS_tot)\n",
    "print(f\"R² Score on Test Data: {r2_score:.4f}\")"
   ]
  }
 ],
 "metadata": {
  "kernelspec": {
   "display_name": "Python 3",
   "language": "python",
   "name": "python3"
  },
  "language_info": {
   "codemirror_mode": {
    "name": "ipython",
    "version": 3
   },
   "file_extension": ".py",
   "mimetype": "text/x-python",
   "name": "python",
   "nbconvert_exporter": "python",
   "pygments_lexer": "ipython3",
   "version": "3.13.0"
  }
 },
 "nbformat": 4,
 "nbformat_minor": 5
}
