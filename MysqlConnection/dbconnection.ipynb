{
 "cells": [
  {
   "cell_type": "code",
   "execution_count": 16,
   "id": "f168ab50",
   "metadata": {},
   "outputs": [],
   "source": [
    "import mysql.connector"
   ]
  },
  {
   "cell_type": "code",
   "execution_count": null,
   "id": "d918da19",
   "metadata": {},
   "outputs": [],
   "source": [
    "conn = mysql.connector.connect(\n",
    "    host = \"localhost\",\n",
    "    user = \"root\",\n",
    "    password = \"First#1234\"\n",
    ") "
   ]
  },
  {
   "cell_type": "markdown",
   "id": "94165453",
   "metadata": {},
   "source": [
    "Database and python is connected now"
   ]
  },
  {
   "cell_type": "code",
   "execution_count": 6,
   "id": "a275a869",
   "metadata": {},
   "outputs": [],
   "source": [
    "dbcursor = conn.cursor()"
   ]
  },
  {
   "cell_type": "markdown",
   "id": "a5ed8396",
   "metadata": {},
   "source": [
    "Cursor bna diya command ko execute krne keliye DB me "
   ]
  },
  {
   "cell_type": "code",
   "execution_count": null,
   "id": "c6080e0d",
   "metadata": {},
   "outputs": [],
   "source": [
    "dbcursor.execute(\"CREATE DATABASE NITGoa\")"
   ]
  },
  {
   "cell_type": "code",
   "execution_count": 9,
   "id": "52c96279",
   "metadata": {},
   "outputs": [],
   "source": [
    "dbcursor.execute(\"CREATE DATABASE IF NOT EXISTS IITGoa\")"
   ]
  },
  {
   "cell_type": "markdown",
   "id": "14d1179f",
   "metadata": {},
   "source": [
    "Yha upar maine do database bana liya h : NITGoa aur IITGoa "
   ]
  },
  {
   "cell_type": "code",
   "execution_count": 15,
   "id": "afc5db9a",
   "metadata": {},
   "outputs": [
    {
     "name": "stdout",
     "output_type": "stream",
     "text": [
      "('iitgoa',)\n",
      "('information_schema',)\n",
      "('mysql',)\n",
      "('nitgoa',)\n",
      "('performance_schema',)\n",
      "('school',)\n",
      "('sys',)\n"
     ]
    }
   ],
   "source": [
    "dbcursor.execute(\"SHOW DATABASES\")\n",
    "for i in dbcursor: print(i)"
   ]
  },
  {
   "cell_type": "markdown",
   "id": "2dd0632a",
   "metadata": {},
   "source": [
    "Yha upar databse cursor ke help se maine sql query run kiya aur saara db dekha liya"
   ]
  },
  {
   "cell_type": "markdown",
   "id": "45d9dcc3",
   "metadata": {},
   "source": [
    "# Yha se NITGoa Database keliye kaam hua h"
   ]
  },
  {
   "cell_type": "code",
   "execution_count": 8,
   "id": "997d3ae4",
   "metadata": {},
   "outputs": [],
   "source": [
    "NITGoaConn = mysql.connector.connect(\n",
    "    host = \"localhost\",\n",
    "    user = \"root\",\n",
    "    password = \"First#1234\",\n",
    "    database = \"NITGoa\"\n",
    ")"
   ]
  },
  {
   "cell_type": "markdown",
   "id": "ac87d2df",
   "metadata": {},
   "source": [
    "Yha upar maine Nitgoa DB ka connection bnaya aur uska cursor create kiya "
   ]
  },
  {
   "cell_type": "code",
   "execution_count": 66,
   "id": "38866be9",
   "metadata": {},
   "outputs": [],
   "source": [
    "def nitgcreatetables(CTables):\n",
    "    nitgcursor = NITGoaConn.cursor()\n",
    "    for table in CTables:\n",
    "        query = f\"\"\"CREATE TABLE IF NOT EXISTS {table} (\n",
    "            name VARCHAR(255),\n",
    "            age INT(10),\n",
    "            address VARCHAR(255),\n",
    "            placement VARCHAR(255),\n",
    "            backlog VARCHAR(255)\n",
    "        )\"\"\"\n",
    "        nitgcursor.execute(query)\n",
    "    NITGoaConn.commit()"
   ]
  },
  {
   "cell_type": "code",
   "execution_count": 11,
   "id": "55d111ad",
   "metadata": {},
   "outputs": [],
   "source": [
    "# Learn : \n",
    "# 1. without column table can't be created \n",
    "# 2. executemany won't work here because one by one each table with their columne we are creating\n",
    "# 3. Yha pe f\"\" -> lgana pada query me qki comment me Table name daalna tha \n",
    "# 4. nitgcursor.execute(query) :: we need to keep this inside loop so that it will execute every time"
   ]
  },
  {
   "cell_type": "code",
   "execution_count": 67,
   "id": "fc3fba10",
   "metadata": {},
   "outputs": [],
   "source": [
    "def nitgdeletetables(DTable):\n",
    "    nitgcursor = NITGoaConn.cursor()\n",
    "    for table in DTable:\n",
    "        query = f\"DROP TABLE {table}\"\n",
    "        nitgcursor.execute(query)\n",
    "    NITGoaConn.commit()"
   ]
  },
  {
   "cell_type": "code",
   "execution_count": 13,
   "id": "6b7122d7",
   "metadata": {},
   "outputs": [],
   "source": [
    "def nitgread():\n",
    "    cursor = NITGoaConn.cursor()\n",
    "    cursor.execute(\"SHOW TABLES\")\n",
    "    tables = cursor.fetchall()\n",
    "    cursor.close()\n",
    "    return tables"
   ]
  },
  {
   "cell_type": "markdown",
   "id": "b7a46129",
   "metadata": {},
   "source": [
    "Yha pe maine table CREATE DELETE aur READ krneka function banaya"
   ]
  },
  {
   "cell_type": "code",
   "execution_count": null,
   "id": "b61ebfb9",
   "metadata": {},
   "outputs": [],
   "source": [
    "DTable = [\"AEE1\",\"AEE2\",\"AEE3\",\"AEE4\"]\n",
    "nitgdeletetables(DTable)"
   ]
  },
  {
   "cell_type": "code",
   "execution_count": null,
   "id": "446dfeeb",
   "metadata": {},
   "outputs": [],
   "source": [
    "CTables = [\"CSE\",\"EEE\",\"ECE\",\"CVE\",\"MCE\"]\n",
    "nitgcreatetables(CTables)"
   ]
  },
  {
   "cell_type": "code",
   "execution_count": 14,
   "id": "80cdd3bc",
   "metadata": {},
   "outputs": [
    {
     "data": {
      "text/plain": [
       "[('cse',), ('cve',), ('ece',), ('eee',), ('mce',)]"
      ]
     },
     "execution_count": 14,
     "metadata": {},
     "output_type": "execute_result"
    }
   ],
   "source": [
    "nitgread()"
   ]
  },
  {
   "cell_type": "markdown",
   "id": "388a1802",
   "metadata": {},
   "source": [
    "Yha pe maine CREATE DELETE aur READ Table ka function call kiya"
   ]
  },
  {
   "cell_type": "code",
   "execution_count": 16,
   "id": "68b48ec0",
   "metadata": {},
   "outputs": [],
   "source": [
    "def Tabledata(Tables,data):\n",
    "    nitgcursor = NITGoaConn.cursor()\n",
    "    for tb in Tables:\n",
    "        query = f\"INSERT INTO {tb} (name,age,address,placement,backlog) VALUES (%s,%s,%s,%s,%s)\"\n",
    "        nitgcursor.executemany(query,data)  \n",
    "    nitgcursor.close()\n",
    "    NITGoaConn.commit()"
   ]
  },
  {
   "cell_type": "code",
   "execution_count": 30,
   "id": "f3d1e155",
   "metadata": {},
   "outputs": [],
   "source": [
    "def deletedata(DTable,row):\n",
    "    nitgcursor = NITGoaConn.cursor()\n",
    "    query = f\"DELETE FROM {DTable} ORDER BY name LIMIT {row}\"\n",
    "    nitgcursor.execute(query)\n",
    "    nitgcursor.close()"
   ]
  },
  {
   "cell_type": "code",
   "execution_count": 21,
   "id": "d367bebd",
   "metadata": {},
   "outputs": [],
   "source": [
    "def readdata(RTable):\n",
    "    nitgcursor = NITGoaConn.cursor(buffered=True)\n",
    "    query = f\"SELECT * FROM {RTable}\"\n",
    "    nitgcursor.execute(query)\n",
    "    row = nitgcursor.fetchall()\n",
    "    nitgcursor.close()\n",
    "    return row\n"
   ]
  },
  {
   "cell_type": "markdown",
   "id": "af28b502",
   "metadata": {},
   "source": [
    "Table ke ander ke Data ko READ DELETE aur INSERT krne keliye function bnaya h"
   ]
  },
  {
   "cell_type": "code",
   "execution_count": 31,
   "id": "8062fe9b",
   "metadata": {},
   "outputs": [],
   "source": [
    "DTable = \"CSE\"\n",
    "row = 20\n",
    "deletedata(DTable,row)"
   ]
  },
  {
   "cell_type": "code",
   "execution_count": null,
   "id": "2031f555",
   "metadata": {
    "vscode": {
     "languageId": "sql"
    }
   },
   "outputs": [],
   "source": [
    "data = [\n",
    "    ('Amber', 22, 'Bihar', 'yes', 3)\n",
    "]\n",
    "Tables = [\"CSE\"]\n",
    "Tabledata(Tables,data)"
   ]
  },
  {
   "cell_type": "code",
   "execution_count": 40,
   "id": "b47d50c4",
   "metadata": {},
   "outputs": [],
   "source": [
    "RTable = \"CSE\"\n",
    "readdata(RTable);"
   ]
  },
  {
   "cell_type": "markdown",
   "id": "abb7a687",
   "metadata": {},
   "source": [
    "Particular table ke data READ INSERT AUR DELETE krne keliye function call ho rha"
   ]
  },
  {
   "cell_type": "markdown",
   "id": "dff613b5",
   "metadata": {},
   "source": [
    "# Ab yha se IITGoa database pe kaam hua h"
   ]
  },
  {
   "cell_type": "code",
   "execution_count": 41,
   "id": "8bf9e13b",
   "metadata": {},
   "outputs": [],
   "source": [
    "IITGoaconn = mysql.connector.connect(\n",
    "    host = \"localhost\",\n",
    "    user = \"root\",\n",
    "    password = \"First#1234\",\n",
    "    database = \"IITGoa\"\n",
    ")"
   ]
  },
  {
   "cell_type": "markdown",
   "id": "7aec507d",
   "metadata": {},
   "source": [
    "Connection Establish kiya IITGoa ke database se "
   ]
  },
  {
   "cell_type": "code",
   "execution_count": 74,
   "id": "b2e23f8d",
   "metadata": {},
   "outputs": [],
   "source": [
    "def iitgcreatetables(CTable):\n",
    "    iitgcursor = IITGoaconn.cursor()\n",
    "    for tb in CTable:\n",
    "        query = f\"CREATE TABLE {tb} (name VARCHAR(255), age INT(10), address VARCHAR(255), placement VARCHAR(255), backlog INT(10))\"\n",
    "        iitgcursor.execute(query)\n",
    "    iitgcursor.close()"
   ]
  },
  {
   "cell_type": "code",
   "execution_count": 59,
   "id": "277d01a4",
   "metadata": {},
   "outputs": [],
   "source": [
    "def iitgdeletetables(DTable):\n",
    "    iitgcursor = IITGoaconn.cursor()\n",
    "    for tb in DTable :\n",
    "        query = f\"DROP TABLE {tb}\"\n",
    "        iitgcursor.execute(query)\n",
    "    iitgcursor.close()"
   ]
  },
  {
   "cell_type": "code",
   "execution_count": 52,
   "id": "051056d5",
   "metadata": {},
   "outputs": [],
   "source": [
    "def iitgreadtables():\n",
    "    iitgcursor = IITGoaconn.cursor()\n",
    "    query = \"SHOW TABLES\"\n",
    "    iitgcursor.execute(query)\n",
    "    row = iitgcursor.fetchall()\n",
    "    iitgcursor.close()\n",
    "    return row  "
   ]
  },
  {
   "cell_type": "markdown",
   "id": "98f365dd",
   "metadata": {},
   "source": [
    "Yha pe maine table CREATE DELETE aur READ krneka function banaya"
   ]
  },
  {
   "cell_type": "code",
   "execution_count": 80,
   "id": "cf59ce1c",
   "metadata": {},
   "outputs": [],
   "source": [
    "CTable = [\"CSE\", \"IT\"]\n",
    "iitgcreatetables(CTable)"
   ]
  },
  {
   "cell_type": "code",
   "execution_count": 78,
   "id": "eaa6209b",
   "metadata": {},
   "outputs": [],
   "source": [
    "DTable = [\"CSE\", \"IT\"]\n",
    "iitgdeletetables(DTable)"
   ]
  },
  {
   "cell_type": "code",
   "execution_count": 81,
   "id": "c6c44adc",
   "metadata": {},
   "outputs": [
    {
     "data": {
      "text/plain": [
       "[('cse',), ('it',)]"
      ]
     },
     "execution_count": 81,
     "metadata": {},
     "output_type": "execute_result"
    }
   ],
   "source": [
    "iitgreadtables()"
   ]
  },
  {
   "cell_type": "markdown",
   "id": "dc5dd3b1",
   "metadata": {},
   "source": [
    "Yha pe maine CREATE DELETE aur READ Table ka function call kiya"
   ]
  },
  {
   "cell_type": "code",
   "execution_count": null,
   "id": "d4cb8306",
   "metadata": {},
   "outputs": [],
   "source": [
    "def iitgdatainsert(insertdata,table):\n",
    "    iitgcursor = IITGoaconn.cursor()\n",
    "    for tb in table:\n",
    "        query = f\"INSERT INTO {tb} ( name, age, address, placement, backlog) VALUES (%s, %s, %s, %s, %s)\"\n",
    "        iitgcursor.executemany(query,insertdata)\n",
    "    iitgcursor.close()\n",
    "    IITGoaconn.commit()"
   ]
  },
  {
   "cell_type": "code",
   "execution_count": 99,
   "id": "2d6601ae",
   "metadata": {},
   "outputs": [],
   "source": [
    "def iitgdeletedata(dtable,row):\n",
    "    iitgcursor = IITGoaconn.cursor()\n",
    "    query = f\"DELETE FROM {dtable} ORDER BY name LIMIT {row}\"\n",
    "    iitgcursor.execute(query)\n",
    "    iitgcursor.close()\n",
    "    IITGoaconn.commit()"
   ]
  },
  {
   "cell_type": "code",
   "execution_count": 73,
   "id": "e07aedb3",
   "metadata": {},
   "outputs": [],
   "source": [
    "def iitgreaddata(rtable):\n",
    "    iitgcursor = IITGoaconn.cursor()\n",
    "    query = f\"SELECT * FROM {rtable}\"\n",
    "    iitgcursor.execute(query)\n",
    "    row = iitgcursor.fetchall()\n",
    "    iitgcursor.close()\n",
    "    return row"
   ]
  },
  {
   "cell_type": "markdown",
   "id": "4bbbc2f5",
   "metadata": {},
   "source": [
    "Yha pe maine CREATE DELETE aur READ Table ka function bnaya"
   ]
  },
  {
   "cell_type": "code",
   "execution_count": 102,
   "id": "bdfae0ab",
   "metadata": {},
   "outputs": [],
   "source": [
    "insertdata = [\n",
    "    (\"Amber\", 23, \"Bihar\", \"Yes\", 0),\n",
    "    (\"suraj\", 24, \"jharkhand\", \"Yes\", 3)\n",
    "]\n",
    "table = [\"IT\"]\n",
    "iitgdatainsert(insertdata,table)"
   ]
  },
  {
   "cell_type": "code",
   "execution_count": 105,
   "id": "58a04553",
   "metadata": {},
   "outputs": [],
   "source": [
    "readdata = \"IT\"\n",
    "iitgreaddata(readdata);"
   ]
  },
  {
   "cell_type": "code",
   "execution_count": 100,
   "id": "082bc307",
   "metadata": {},
   "outputs": [],
   "source": [
    "deletedata = \"IT\"\n",
    "row = 2\n",
    "iitgdeletedata(deletedata,row)"
   ]
  },
  {
   "cell_type": "markdown",
   "id": "7aa22e88",
   "metadata": {},
   "source": [
    "Yha pe maine particular table me Data INSERT DELETE aur READ Table ka function call kiya"
   ]
  }
 ],
 "metadata": {
  "kernelspec": {
   "display_name": "Python 3",
   "language": "python",
   "name": "python3"
  },
  "language_info": {
   "codemirror_mode": {
    "name": "ipython",
    "version": 3
   },
   "file_extension": ".py",
   "mimetype": "text/x-python",
   "name": "python",
   "nbconvert_exporter": "python",
   "pygments_lexer": "ipython3",
   "version": "3.13.0"
  }
 },
 "nbformat": 4,
 "nbformat_minor": 5
}
